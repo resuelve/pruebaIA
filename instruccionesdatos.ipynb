{
 "cells": [
  {
   "cell_type": "markdown",
   "metadata": {},
   "source": [
    "# Contexto\n",
    "\n",
    "El data set \"datos_prestamo.csv\" tiene información de una empresa que otorga créditos. Hasta ahora, hay un grupo de personas (el equipo de crédito) que estudia registro a registro y decide si prestarle o no. \n",
    "\n",
    "Las variables que tenemos son:\n",
    "- Fecha_registro: El día y hora que el usuario se registró en nuestro sitio web.\n",
    "- Fecha_contacto: El día y hora que un asesor se comunicó con el cliente. Debe ser posterior a la Fecha de registro.\n",
    "- Id: Identificador que se le asigna al cliente. Debe ser único.\n",
    "- Genero: Hombre o mujer.\n",
    "- Casado:  Si está casado.\n",
    "- Dependientes: Número de personas que dependen de su ingreso.\n",
    "- Educacion: Graduado si tiene un título universitario o superior. No graduado en otro caso.\n",
    "- Trabaja_para_el: Si es dueño del negocio o empresa en donde trabaja.\n",
    "- Salario: Salario neto anual en pesos.\n",
    "- Salario_pareja: Salario neto anual de la pareja en pesos.\n",
    "- Credito_pedido: Crédito que solicito en miles de pesos.\n",
    "- Plazo_prestamo: Plazo al que pidió su crédito en días (en cuántos días va a pagar).\n",
    "- Hitorial_crediticio: 1 si tiene historial crediticio, 0 si no tiene.\n",
    "- Area_vivienda: En qué tipo de área esta situada su casa.\n",
    "- Estatus_prestamo: Si le otorgaron el crédito.\n",
    "- Asesor_asignado: El nombre del asesor que atenderá al cliente si se le otorgó el crédito. \n",
    "        \n",
    "\n",
    "En el último mes, han llegado muchos más registros de los que puede atender el equipo de crédito. Alguien sugirió crear un modelo para poder decidir a quien prestarle. \n",
    "- **¿Crees que sea una buena idea? ¿ Por qué?** \n",
    "- **Si la respuesta fue sí, ¿qué tipo de probema es según los datos que tienes? (Supervisado o No Supervisado)**\n",
    "- **Haz las transformaciones que necesites a los datos y desarrolla algún modelo.**\n",
    "- **¿Cómo sabes que es un buen modelo?** \n",
    "\n",
    "Puedes usar Python o R para responder estas preguntas. Recuerda documentar adecuadamente tu código. "
   ]
  }
 ],
 "metadata": {
  "kernelspec": {
   "display_name": "Python 3",
   "language": "python",
   "name": "python3"
  },
  "language_info": {
   "codemirror_mode": {
    "name": "ipython",
    "version": 3
   },
   "file_extension": ".py",
   "mimetype": "text/x-python",
   "name": "python",
   "nbconvert_exporter": "python",
   "pygments_lexer": "ipython3",
   "version": "3.7.1"
  },
  "latex_envs": {
   "LaTeX_envs_menu_present": true,
   "autoclose": false,
   "autocomplete": true,
   "bibliofile": "biblio.bib",
   "cite_by": "apalike",
   "current_citInitial": 1,
   "eqLabelWithNumbers": true,
   "eqNumInitial": 1,
   "hotkeys": {
    "equation": "Ctrl-E",
    "itemize": "Ctrl-I"
   },
   "labels_anchors": false,
   "latex_user_defs": false,
   "report_style_numbering": false,
   "user_envs_cfg": false
  },
  "toc": {
   "base_numbering": 1,
   "nav_menu": {},
   "number_sections": true,
   "sideBar": true,
   "skip_h1_title": false,
   "title_cell": "Table of Contents",
   "title_sidebar": "Contents",
   "toc_cell": false,
   "toc_position": {},
   "toc_section_display": true,
   "toc_window_display": false
  }
 },
 "nbformat": 4,
 "nbformat_minor": 2
}
